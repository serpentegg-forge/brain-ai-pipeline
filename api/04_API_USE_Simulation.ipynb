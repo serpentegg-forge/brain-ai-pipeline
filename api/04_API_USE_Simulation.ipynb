{
 "cells": [
  {
   "cell_type": "markdown",
   "id": "9901c2b6",
   "metadata": {},
   "source": [
    "\n",
    "1. **Extracción y empaquetado del pipeline de inferencia**\n",
    "\n",
    "   * Se unificaron en `inference_pipeline.py` todas las piezas necesarias:\n",
    "\n",
    "     * La carga del modelo EfficientNet y su transform de validación para inferir la condición tumoral.\n",
    "     * Las funciones de preprocesado de la nota clínica y agregación de síntomas (reutilizando el código de `src/data_preprocessing.py`).\n",
    "     * El cargado del preprocesador de características y del modelo XGBoost ya entrenados, junto con los codificadores de etiqueta.\n",
    "     * Una única función `predict_treatment(...)` que recibe ruta de imagen, edad, sexo y texto clínico, y devuelve código y etiqueta tanto de condición como de tratamiento, junto a las probabilidades de cada clase.\n",
    "\n",
    "2. **Construcción del microservicio con FastAPI**\n",
    "\n",
    "   * Se creó `api/main.py`, que añade al `PYTHONPATH` las carpetas del proyecto y de código fuente (`src/`).\n",
    "   * Se definió un endpoint POST `/predict` que acepta un archivo de imagen (`jpg`/`png`) y los campos de formulario (`age`, `sex`, `clinical_note`).\n",
    "   * Dentro del endpoint:\n",
    "\n",
    "     * Validamos el MIME type de la imagen.\n",
    "     * Guardamos temporalmente el fichero recibido para pasar su ruta a la función de inferencia.\n",
    "     * Invocamos `predict_treatment` y devolvemos su salida en formato JSON, limpiando el archivo temporal después.\n",
    "\n",
    "3. **Ejecución del servidor**\n",
    "\n",
    "   * Instalamos y usamos la misma versión de Python (3.12) en la que entrenamos el modelo para arrancar Uvicorn:\n",
    "\n",
    "     ```bash\n",
    "     py -3.12 -m uvicorn api.main:app --reload --host 127.0.0.1 --port 8000\n",
    "     ```\n",
    "   * Comprobamos en consola que Uvicorn levanta correctamente el servicio en `http://127.0.0.1:8000`.\n",
    "\n"
   ]
  },
  {
   "cell_type": "code",
   "execution_count": null,
   "id": "61012c3b",
   "metadata": {},
   "outputs": [
    {
     "name": "stdout",
     "output_type": "stream",
     "text": [
      "200\n",
      "{'condition_code': 0, 'condition_label': 'Brain Glioma', 'treatment_code': 3, 'treatment_label': 'surgery', 'probabilities': [0.25187328457832336, 0.002291254233568907, 0.36525100469589233, 0.3805845081806183]}\n"
     ]
    }
   ],
   "source": [
    "import requests\n",
    "\n",
    "url = \"http://127.0.0.1:8000/predict\"\n",
    "\n",
    "files = {\n",
    "    \"image\": (\n",
    "        \"brain_glioma_0001.jpg\",\n",
    "        open(r\"C:\\Users\\juanreur\\Downloads\\Reto Tecnico Biociencias\\brain-cancer-ai-pipeline\\data\\Brain_Cancer raw MRI data\\brain_cancer_IMG\\brain_glioma\\brain_glioma_0001.jpg\", \"rb\"),\n",
    "        \"image/jpeg\",\n",
    "    )\n",
    "}\n",
    "\n",
    "data = {\n",
    "    \"age\": 70,\n",
    "    \"sex\": \"F\",\n",
    "    \"clinical_note\": \"Patient is experiencing memory lapses and speech difficulties\"\n",
    "}\n",
    "\n",
    "resp = requests.post(url, files=files, data=data)\n",
    "print(resp.status_code)\n",
    "print(resp.json())\n"
   ]
  },
  {
   "cell_type": "markdown",
   "id": "1e7b945f",
   "metadata": {},
   "source": [
    "## ¡ Prueba Exitosa !"
   ]
  },
  {
   "cell_type": "markdown",
   "id": "4bd91d8e",
   "metadata": {},
   "source": []
  }
 ],
 "metadata": {
  "kernelspec": {
   "display_name": "Python 3",
   "language": "python",
   "name": "python3"
  },
  "language_info": {
   "codemirror_mode": {
    "name": "ipython",
    "version": 3
   },
   "file_extension": ".py",
   "mimetype": "text/x-python",
   "name": "python",
   "nbconvert_exporter": "python",
   "pygments_lexer": "ipython3",
   "version": "3.12.9"
  }
 },
 "nbformat": 4,
 "nbformat_minor": 5
}
